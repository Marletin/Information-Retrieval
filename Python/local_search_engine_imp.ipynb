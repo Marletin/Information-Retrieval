{
 "cells": [
  {
   "cell_type": "code",
   "execution_count": 10,
   "metadata": {},
   "outputs": [
    {
     "data": {
      "text/html": [
       "<style>.container { width:100%; !important } </style>"
      ],
      "text/plain": [
       "<IPython.core.display.HTML object>"
      ]
     },
     "metadata": {},
     "output_type": "display_data"
    }
   ],
   "source": [
    "from IPython.core.display import HTML, display\n",
    "display(HTML('<style>.container { width:100%; !important } </style>'))"
   ]
  },
  {
   "cell_type": "code",
   "execution_count": 11,
   "metadata": {},
   "outputs": [],
   "source": [
    "from tika import parser\n",
    "import filetype\n",
    "import math\n",
    "import os\n",
    "import string\n",
    "import platform\n",
    "import operator\n",
    "import re\n",
    "from nltk.tokenize import RegexpTokenizer"
   ]
  },
  {
   "cell_type": "code",
   "execution_count": 12,
   "metadata": {},
   "outputs": [],
   "source": [
    "class Document:\n",
    "    def __init__(self, url, length, id, textList):\n",
    "        self.url = url\n",
    "        self.length = length\n",
    "        self.id = id\n",
    "        self.score = 0.\n",
    "        self.textList = textList"
   ]
  },
  {
   "cell_type": "code",
   "execution_count": 13,
   "metadata": {},
   "outputs": [],
   "source": [
    "def tf_idf(self, termList, df):\n",
    "    \n",
    "    tfDict = {}\n",
    "    for term in termList:\n",
    "        tfDict[term] = 0\n",
    "    \n",
    "    ind = Index()\n",
    "        \n",
    "    for term in self.textList:\n",
    "        if term in termList:\n",
    "            tfDict[term] = tfDict[term]+1\n",
    "\n",
    "    for key, value in df.items():\n",
    "        idf = math.log((ind.fileCount/value+1),10)\n",
    "        tfDict[key] = tfDict[key]*idf\n",
    "    \n",
    "    self.score = sum(tfDict.values())\n",
    "\n",
    "Document.tf_idf = tf_idf"
   ]
  },
  {
   "cell_type": "code",
   "execution_count": 14,
   "metadata": {},
   "outputs": [],
   "source": [
    "class Index:\n",
    "    hashmap = {} #dictionary\n",
    "    fileCount = 0 #integer, Gesamtzahl aller gefunden Dateien\n",
    "    docHashmap = {}"
   ]
  },
  {
   "cell_type": "code",
   "execution_count": 15,
   "metadata": {},
   "outputs": [],
   "source": [
    "def buildIndex(self, start=\"\"):\n",
    "    \n",
    "    if start == \"\":\n",
    "        startDirectories = self._getStartDirectories()\n",
    "    else:\n",
    "        startDirectories = [start]\n",
    "        \n",
    "    for directory in startDirectories:\n",
    "        for root, _, files in os.walk(directory):\n",
    "            for file in files:\n",
    "                \n",
    "                path = os.path.abspath(os.path.join(root, file))\n",
    "                \n",
    "                try:\n",
    "                    if filetype.guess(path).mime == 'application/pdf':\n",
    "\n",
    "                        fileData = parser.from_file(path)\n",
    "                        rawText = fileData['content']\n",
    "                        self.fileCount += 1\n",
    "                    \n",
    "                        processedText = self._preprocessText(rawText)\n",
    "                        document = Document(path, len(processedText), self.fileCount, processedText)\n",
    "                        self.docHashmap.update({self.fileCount : document})\n",
    "                        self._addToIndex(self.fileCount, processedText)\n",
    "                except:\n",
    "                    print(end=\"\")\n",
    "                    continue\n",
    "\n",
    "Index.buildIndex = buildIndex"
   ]
  },
  {
   "cell_type": "code",
   "execution_count": 16,
   "metadata": {},
   "outputs": [],
   "source": [
    "def _getStartDirectories(self):\n",
    "\n",
    "    if platform.system() == \"Linux\":\n",
    "        directories = [\"/\"]\n",
    "        \n",
    "    elif platform.system() == \"Darwin\":\n",
    "        directories = [\"/\"]\n",
    "        \n",
    "    elif platform.system() == \"Windows\":\n",
    "        directories = ['%s:\\\\' % d for d in string.ascii_uppercase if os.path.exists('%s:' % d)]\n",
    "        \n",
    "    else:\n",
    "        raise EnvironmentError\n",
    "        \n",
    "    return directories\n",
    "\n",
    "Index._getStartDirectories = _getStartDirectories"
   ]
  },
  {
   "cell_type": "code",
   "execution_count": 17,
   "metadata": {},
   "outputs": [],
   "source": [
    "def _addToIndex(self, documentID, terms):\n",
    "    \n",
    "    for term in terms:\n",
    "        \n",
    "        try:\n",
    "            docSet = self.hashmap[term]\n",
    "            docSet.add(documentID)\n",
    "            self.hashmap.update({term : docSet})\n",
    "            \n",
    "        except KeyError:\n",
    "            docSet = {documentID}\n",
    "            self.hashmap.update({term : docSet})\n",
    "    \n",
    "Index._addToIndex = _addToIndex"
   ]
  },
  {
   "cell_type": "code",
   "execution_count": 18,
   "metadata": {},
   "outputs": [],
   "source": [
    "def _preprocessText(self, text):\n",
    "    \n",
    "    lowerText = text.lower()\n",
    "    \n",
    "    prepText = re.sub(r'\\d+', '', lowerText)\n",
    "            \n",
    "    tokenizer = RegexpTokenizer(r'[a-zA-Z]+-$|\\w+')\n",
    "    tokenList = tokenizer.tokenize(prepText)\n",
    "    \n",
    "    for token in tokenList:\n",
    "        if token[-1] == '-':\n",
    "            \n",
    "            index = tokenList.index(token)\n",
    "            compositeWord = token[:-1]+tokenList[index+1]\n",
    "            tokenList[index] = compositeWord\n",
    "            del tokenList[index+1]\n",
    "            \n",
    "    return tokenList\n",
    "    \n",
    "Index._preprocessText = _preprocessText"
   ]
  },
  {
   "cell_type": "markdown",
   "metadata": {},
   "source": [
    "# IMPROVEMENT"
   ]
  },
  {
   "cell_type": "code",
   "execution_count": 19,
   "metadata": {},
   "outputs": [],
   "source": [
    "def retrieve(self, searchString):\n",
    " \n",
    "    processedStrings = self._preprocessText(searchString)\n",
    "    result, intsect = set(), set()\n",
    "    df, helpDict, helpDict2 = {}, {}, {}\n",
    "    resultList, resultList2 = [], []\n",
    "    \n",
    "    for word in processedStrings:\n",
    "        try:\n",
    "            documents = set(self.hashmap[word])\n",
    "            df[word] = len(documents)\n",
    "            intsect = result.intersection(documents).union(intsect)\n",
    "            result = result.union(documents)\n",
    "            \n",
    "        except KeyError:\n",
    "            continue\n",
    "\n",
    "    for document in result:\n",
    "        doc = ind.docHashmap[document]\n",
    "        doc.tf_idf(processedStrings,df)\n",
    "        helpDict[doc.id] = doc.score\n",
    "        \n",
    "    for key in intsect:\n",
    "        helpDict2[key] = helpDict[key]\n",
    "        helpDict.pop(key)\n",
    "        \n",
    "    sortedDict = sorted(helpDict.items(), key=operator.itemgetter(1))\n",
    "    sortedDict2 = sorted(helpDict2.items(), key=operator.itemgetter(1))\n",
    "\n",
    "    \n",
    "    for key,_ in sortedDict:\n",
    "        resultList.append(ind.docHashmap[key].url)\n",
    "    \n",
    "    for key,_ in sortedDict2:\n",
    "        resultList2.append(ind.docHashmap[key].url)\n",
    "    \n",
    "    \n",
    "    resultList = resultList[::-1]\n",
    "    resultList2 = resultList2[::-1]\n",
    "    \n",
    "    return resultList2+resultList\n",
    "\n",
    "Index.retrieve = retrieve"
   ]
  },
  {
   "cell_type": "code",
   "execution_count": 20,
   "metadata": {},
   "outputs": [],
   "source": [
    "ind = Index()\n",
    "ind.buildIndex(r\"C:\\Users\\marle\\OneDrive\\Studium\")"
   ]
  },
  {
   "cell_type": "code",
   "execution_count": 21,
   "metadata": {
    "scrolled": false
   },
   "outputs": [
    {
     "name": "stdout",
     "output_type": "stream",
     "text": [
      "C:\\Users\\marle\\OneDrive\\Studium\\Praxisbericht_3\\Bewertung\\Drucken.pdf\n",
      "C:\\Users\\marle\\OneDrive\\Studium\\Praxisbericht_3\\Bewertung\\Ablauf_und_Reflexion_der_Praxisphase_Teil_B.pdf\n",
      "C:\\Users\\marle\\OneDrive\\Studium\\Praxisbericht_3\\T3000_TINF16AIBI_Richter_Jesse-Jermaine.pdf\n",
      "C:\\Users\\marle\\OneDrive\\Studium\\Praxisbericht_2\\Scan_JesseRichter_20180914124926.pdf\n",
      "C:\\Users\\marle\\OneDrive\\Studium\\Praxisbericht_2\\Monitoring.pdf\n",
      "C:\\Users\\marle\\OneDrive\\Studium\\Praxisbericht_2\\Monitoring-LAPTOP-2NADN4MG.pdf\n",
      "C:\\Users\\marle\\OneDrive\\Studium\\Praxisbericht_2\\Monitoring-LAPTOP-2NADN4MG-2.pdf\n",
      "C:\\Users\\marle\\OneDrive\\Studium\\Analysis\\Mathematik für Informatiker 1.pdf\n",
      "C:\\Users\\marle\\OneDrive\\Studium\\Software Engineering 2\\2_DesignPatterns-MusterKlassifikation.pdf\n",
      "C:\\Users\\marle\\OneDrive\\Studium\\Software Architecture Management\\SoftwareArchitektur_folien.pdf\n",
      "C:\\Users\\marle\\OneDrive\\Studium\\Software Architecture Management\\main.pdf\n",
      "C:\\Users\\marle\\OneDrive\\Studium\\Qualitäts-Sicherung\\Softwarequalitätssicherung_Teil_I_2017.pdf\n",
      "C:\\Users\\marle\\OneDrive\\Studium\\Logik\\logic.pdf\n",
      "C:\\Users\\marle\\OneDrive\\Studium\\Kommunikations- Netzwerktechnik\\KT\\VKT00_Organisation_180213.pdf\n",
      "C:\\Users\\marle\\OneDrive\\Studium\\Java\\Übungsblatt 5.pdf\n",
      "C:\\Users\\marle\\OneDrive\\Studium\\Java\\Übungsblatt 4.pdf\n",
      "C:\\Users\\marle\\OneDrive\\Studium\\Java\\Übungsblatt 3.pdf\n",
      "C:\\Users\\marle\\OneDrive\\Studium\\Java\\Übungsblatt 2.pdf\n",
      "C:\\Users\\marle\\OneDrive\\Studium\\Java\\Übungsblatt 1.pdf\n",
      "C:\\Users\\marle\\OneDrive\\Studium\\Java\\Klausurrelevant.pdf\n",
      "C:\\Users\\marle\\OneDrive\\Studium\\Java\\Klausur Java-Programmierung SS 2012.pdf\n",
      "C:\\Users\\marle\\OneDrive\\Studium\\Java\\Folien.pdf\n",
      "C:\\Users\\marle\\OneDrive\\Studium\\IT-Sicherheit\\Übungen\\Uebung_02112018_Online_Veranstaltung.pdf\n",
      "C:\\Users\\marle\\OneDrive\\Studium\\IT-Sicherheit\\Vorlesungen\\2_Web_Anwendungen.pdf\n",
      "C:\\Users\\marle\\OneDrive\\Studium\\IT-Sicherheit\\Zusammenfassung.pdf\n",
      "C:\\Users\\marle\\OneDrive\\Studium\\Interaktive Systeme\\Interaktive Systeme - complete.pdf\n",
      "C:\\Users\\marle\\OneDrive\\Studium\\Formale Sprachen & Automaten\\KIT_Formale-Sprachen[881].pdf\n",
      "C:\\Users\\marle\\OneDrive\\Studium\\E-Business\\E_COMMERCE_2017_1.pdf\n",
      "C:\\Users\\marle\\OneDrive\\Studium\\Datenbanken II\\Datenbanken II.pdf\n",
      "C:\\Users\\marle\\OneDrive\\Studium\\Datenbanken\\Zusammenfassungen\\04 Relationale Modell und Algebra.pdf\n",
      "C:\\Users\\marle\\OneDrive\\Studium\\Datenbanken\\Zusammenfassungen\\02 Geschichte und Motivation.pdf\n",
      "C:\\Users\\marle\\OneDrive\\Studium\\Datenbanken\\Datenbanken I - Complete.pdf\n",
      "C:\\Users\\marle\\OneDrive\\Studium\\Data Warehouse\\Totok_OLAP_und_DWH.pdf\n",
      "C:\\Users\\marle\\OneDrive\\Studium\\Consulting\\Consulting.pdf\n",
      "C:\\Users\\marle\\OneDrive\\Studium\\Compilerbau\\Java_Haskell_Compiler5.pdf\n",
      "C:\\Users\\marle\\OneDrive\\Studium\\Compilerbau\\Java_Haskell_Compiler4.pdf\n",
      "C:\\Users\\marle\\OneDrive\\Studium\\Compilerbau\\Java_Haskell_Compiler3.pdf\n",
      "C:\\Users\\marle\\OneDrive\\Studium\\Compilerbau\\Java_Haskell_Compiler2.pdf\n",
      "C:\\Users\\marle\\OneDrive\\Studium\\Compilerbau\\Java_Haskell_Compiler1.pdf\n",
      "C:\\Users\\marle\\OneDrive\\Studium\\Compilerbau\\Java_Haskell_Compiler.pdf\n",
      "C:\\Users\\marle\\OneDrive\\Studium\\Compilerbau\\folien-01.pdf\n",
      "C:\\Users\\marle\\OneDrive\\Studium\\Compilerbau\\Compiler.pdf\n",
      "C:\\Users\\marle\\OneDrive\\Studium\\Compilerbau\\blatt2.pdf\n",
      "C:\\Users\\marle\\OneDrive\\Studium\\Web Engineering 2\\restful-java-with-jax-rs-2-0-2rd-edition-en.pdf\n",
      "C:\\Users\\marle\\OneDrive\\Studium\\Web Engineering 2\\5.4-ServerPush.pdf\n",
      "C:\\Users\\marle\\OneDrive\\Studium\\Web Engineering 2\\5.2-Filterss.pdf\n",
      "C:\\Users\\marle\\OneDrive\\Studium\\Web Engineering 2\\5.1-JSP.pdf\n",
      "C:\\Users\\marle\\OneDrive\\Studium\\Web Engineering 2\\3.3-Servlets-API.pdf\n",
      "C:\\Users\\marle\\OneDrive\\Studium\\Web Engineering 2\\3.1-Authentisierung_WebAppls.pdf\n",
      "C:\\Users\\marle\\OneDrive\\Studium\\Web Engineering 2\\2.2-WBA-Architecture.pdf\n",
      "C:\\Users\\marle\\OneDrive\\Studium\\Web Engineering 2\\1.2-servlets.pdf\n",
      "C:\\Users\\marle\\OneDrive\\Studium\\Web Engineering 2\\1.2-HTTP.pdf\n",
      "C:\\Users\\marle\\OneDrive\\Studium\\Web Engineering 2\\1.1-Einführung-WBA.pdf\n",
      "C:\\Users\\marle\\OneDrive\\Studium\\C\\Nachschreibklausur_Pr.pdf\n",
      "C:\\Users\\marle\\OneDrive\\Studium\\C\\Klausur_J2.pdf\n",
      "C:\\Users\\marle\\OneDrive\\Studium\\C\\Klausur_J.pdf\n",
      "C:\\Users\\marle\\OneDrive\\Studium\\Web Engineering\\20170112-Vorlesung-08.pdf\n",
      "C:\\Users\\marle\\OneDrive\\Studium\\C\\09 Einführung in C - Real-life C projects.pdf\n",
      "C:\\Users\\marle\\OneDrive\\Studium\\Web Engineering\\20161208-Vorlesung-06.pdf\n",
      "C:\\Users\\marle\\OneDrive\\Studium\\Web Engineering\\20161027-Vorlesung-01.pdf\n",
      "C:\\Users\\marle\\OneDrive\\Studium\\Verteilte Systeme\\Übungen\\u11.pdf\n",
      "C:\\Users\\marle\\OneDrive\\Studium\\Verteilte Systeme\\Übungen\\u09.pdf\n",
      "C:\\Users\\marle\\OneDrive\\Studium\\C\\01 Einführung in C - introduction.pdf\n",
      "C:\\Users\\marle\\OneDrive\\Studium\\Verteilte Systeme\\Übungen\\u08.pdf\n",
      "C:\\Users\\marle\\OneDrive\\Studium\\Verteilte Systeme\\Übungen\\u06.pdf\n",
      "C:\\Users\\marle\\OneDrive\\Studium\\Verteilte Systeme\\Übungen\\u05.pdf\n",
      "C:\\Users\\marle\\OneDrive\\Studium\\Verteilte Systeme\\Übungen\\u04.pdf\n",
      "C:\\Users\\marle\\OneDrive\\Studium\\Verteilte Systeme\\Übungen\\u03.pdf\n",
      "C:\\Users\\marle\\OneDrive\\Studium\\Big Data\\Vorlesung\\BigDataAnalytics-Lecture-05.pdf\n",
      "C:\\Users\\marle\\OneDrive\\Studium\\Big Data\\Vorlesung\\BigDataAnalytics-Lecture-04.pdf\n",
      "C:\\Users\\marle\\OneDrive\\Studium\\Verteilte Systeme\\Übungen\\u01.pdf\n",
      "C:\\Users\\marle\\OneDrive\\Studium\\Big Data\\Vorlesung\\BigDataAnalytics-Lecture-02.pdf\n",
      "C:\\Users\\marle\\OneDrive\\Studium\\Big Data\\Vorlesung\\BigDataAnalytics-Lecture-00.pdf\n",
      "C:\\Users\\marle\\OneDrive\\Studium\\Verteilte Systeme\\Lösungen\\l06.pdf\n",
      "C:\\Users\\marle\\OneDrive\\Studium\\Verteilte Systeme\\Lösungen\\l05.pdf\n",
      "C:\\Users\\marle\\OneDrive\\Studium\\Verteilte Systeme\\Lösungen\\l04.pdf\n",
      "C:\\Users\\marle\\OneDrive\\Studium\\Verteilte Systeme\\Lösungen\\l03.pdf\n",
      "C:\\Users\\marle\\OneDrive\\Studium\\Verteilte Systeme\\Lösungen\\l01.pdf\n",
      "C:\\Users\\marle\\OneDrive\\Studium\\Betriebssysteme\\betriebssysteme-02-17-09-28.pdf\n",
      "C:\\Users\\marle\\OneDrive\\Studium\\Betriebssysteme\\betriebssysteme-01-17-09-21.pdf\n",
      "C:\\Users\\marle\\OneDrive\\Studium\\Verteilte Systeme\\Folien\\05-Prozessmanagement.pdf\n",
      "C:\\Users\\marle\\OneDrive\\Studium\\Verteilte Systeme\\Folien\\04-Namensdienste.pdf\n",
      "C:\\Users\\marle\\OneDrive\\Studium\\Verteilte Systeme\\Folien\\03-RMI.pdf\n",
      "C:\\Users\\marle\\OneDrive\\Studium\\Verteilte Systeme\\Folien\\02-Middleware.pdf\n",
      "C:\\Users\\marle\\OneDrive\\Studium\\Studienarbeit\\irbookonlinereading.pdf\n",
      "C:\\Users\\marle\\OneDrive\\Studium\\Analysis\\analysis.pdf\n",
      "C:\\Users\\marle\\OneDrive\\Studium\\Algorithmen\\algorithms.pdf\n",
      "C:\\Users\\marle\\OneDrive\\Studium\\Software Qualität\\Vorlseung\\Softwarequalitaet_VL5_2018.pdf\n"
     ]
    }
   ],
   "source": [
    "resultSet = ind.retrieve(\"Jesse Richter Java\")\n",
    "if resultSet:\n",
    "    for elem in resultSet:\n",
    "        print(elem)"
   ]
  },
  {
   "cell_type": "code",
   "execution_count": null,
   "metadata": {},
   "outputs": [],
   "source": [
    "for index in [1, 2, 166, 137, 138, 171, 210]:\n",
    "    print(ind.docHashmap[index].url)"
   ]
  },
  {
   "cell_type": "code",
   "execution_count": null,
   "metadata": {
    "collapsed": true
   },
   "outputs": [],
   "source": []
  }
 ],
 "metadata": {
  "kernelspec": {
   "display_name": "Python 3",
   "language": "python",
   "name": "python3"
  },
  "language_info": {
   "codemirror_mode": {
    "name": "ipython",
    "version": 3
   },
   "file_extension": ".py",
   "mimetype": "text/x-python",
   "name": "python",
   "nbconvert_exporter": "python",
   "pygments_lexer": "ipython3",
   "version": "3.7.1"
  }
 },
 "nbformat": 4,
 "nbformat_minor": 2
}
