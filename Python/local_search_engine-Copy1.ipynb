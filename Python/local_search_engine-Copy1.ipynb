{
 "cells": [
  {
   "cell_type": "code",
   "execution_count": null,
   "metadata": {
    "collapsed": false
   },
   "outputs": [],
   "source": [
    "from IPython.core.display import HTML, display\n",
    "display(HTML('<style>.container { width:100%; !important } </style>'))"
   ]
  },
  {
   "cell_type": "code",
   "execution_count": 43,
   "metadata": {
    "collapsed": true
   },
   "outputs": [],
   "source": [
    "from tika import parser\n",
    "import filetype\n",
    "import math\n",
    "import os\n",
    "import string\n",
    "import platform\n",
    "import operator\n",
    "import re\n",
    "from nltk.tokenize import RegexpTokenizer"
   ]
  },
  {
   "cell_type": "code",
   "execution_count": 44,
   "metadata": {
    "collapsed": true
   },
   "outputs": [],
   "source": [
    "class Document:\n",
    "    def __init__(self, url, length, id, textList):\n",
    "        self.url = url\n",
    "        self.length = length\n",
    "        self.id = id\n",
    "        self.score = 0.\n",
    "        self.textList = textList"
   ]
  },
  {
   "cell_type": "code",
   "execution_count": 45,
   "metadata": {
    "collapsed": true
   },
   "outputs": [],
   "source": [
    "class Index:\n",
    "    hashmap = {} #dictionary\n",
    "    fileCount = 0 #integer, Gesamtzahl aller gefunden Dateien\n",
    "    docHashmap = {}"
   ]
  },
  {
   "cell_type": "code",
   "execution_count": 46,
   "metadata": {
    "collapsed": false
   },
   "outputs": [],
   "source": [
    "def buildIndex(self):\n",
    "    \n",
    "    #startDirectories = self._getStartDirectories()\n",
    "    startDirectories = [\"F:/Jonas/IT/Springer-Bücher\"]\n",
    "    \n",
    "    for directory in startDirectories:\n",
    "        for root, _, files in os.walk(directory):\n",
    "            for file in files:\n",
    "                \n",
    "                path = os.path.abspath(os.path.join(root, file))\n",
    "                \n",
    "                try:\n",
    "                    if filetype.guess(path).mime == 'application/pdf':\n",
    "\n",
    "                        fileData = parser.from_file(path)\n",
    "                        rawText = fileData['content']\n",
    "                        self.fileCount += 1\n",
    "                    \n",
    "                        processedText = self._preprocessText(rawText)\n",
    "                        document = Document(path, len(processedText), self.fileCount, processedText)\n",
    "                        self.docHashmap.update({self.fileCount : document})\n",
    "                        self._addToIndex(self.fileCount, processedText)\n",
    "                except:\n",
    "                    #print(path)\n",
    "                    print(mime.from_file(path.encode(encoding='UTF-8')))\n",
    "                    continue\n",
    "\n",
    "Index.buildIndex = buildIndex"
   ]
  },
  {
   "cell_type": "code",
   "execution_count": 36,
   "metadata": {
    "collapsed": true
   },
   "outputs": [],
   "source": [
    "def _getStartDirectories(self):\n",
    "\n",
    "    if platform.system() == \"Linux\":\n",
    "        directories = [\"/\"]\n",
    "        \n",
    "    elif platform.system() == \"Darwin\":\n",
    "        directories = [\"/\"]\n",
    "        \n",
    "    elif platform.system() == \"Windows\":\n",
    "        directories = ['%s:\\\\' % d for d in string.ascii_uppercase if os.path.exists('%s:' % d)]\n",
    "        \n",
    "    else:\n",
    "        raise EnvironmentError\n",
    "        \n",
    "    return directories\n",
    "\n",
    "Index._getStartDirectories = _getStartDirectories"
   ]
  },
  {
   "cell_type": "code",
   "execution_count": 37,
   "metadata": {
    "collapsed": true
   },
   "outputs": [],
   "source": [
    "def _addToIndex(self, documentID, terms):\n",
    "    \n",
    "    for term in terms:\n",
    "        \n",
    "        try:\n",
    "            docSet = self.hashmap[term]\n",
    "            docSet.add(documentID)\n",
    "            self.hashmap.update({term : docSet})\n",
    "            \n",
    "        except KeyError:\n",
    "            docSet = {documentID}\n",
    "            self.hashmap.update({term : docSet})\n",
    "    \n",
    "Index._addToIndex = _addToIndex"
   ]
  },
  {
   "cell_type": "code",
   "execution_count": 38,
   "metadata": {
    "collapsed": true
   },
   "outputs": [],
   "source": [
    "def _preprocessText(self, text):\n",
    "    \n",
    "    lowerText = text.lower()\n",
    "    \n",
    "    prepText = re.sub(r'\\d+', '', lowerText)\n",
    "            \n",
    "    tokenizer = RegexpTokenizer(r'[a-zA-Z]+-$|\\w+')\n",
    "    tokenList = tokenizer.tokenize(prepText)\n",
    "    \n",
    "    for token in tokenList:\n",
    "        if token[-1] == '-':\n",
    "            \n",
    "            index = tokenList.index(token)\n",
    "            compositeWord = token[:-1]+tokenList[index+1]\n",
    "            tokenList[index] = compositeWord\n",
    "            del tokenList[index+1]\n",
    "            \n",
    "    return tokenList\n",
    "    \n",
    "Index._preprocessText = _preprocessText"
   ]
  },
  {
   "cell_type": "markdown",
   "metadata": {},
   "source": [
    "# IMPROVEMENT"
   ]
  },
  {
   "cell_type": "code",
   "execution_count": 39,
   "metadata": {
    "collapsed": true
   },
   "outputs": [],
   "source": [
    "def retrieve(self, searchString):\n",
    " \n",
    "    processedStrings = self._preprocessText(searchString)\n",
    "    result, intsect = set(), set()\n",
    "    df, helpDict, helpDict2 = {}, {}, {}\n",
    "    resultList, resultList2 = [], []\n",
    "    \n",
    "    for word in processedStrings:\n",
    "        try:\n",
    "            documents = set(self.hashmap[word])\n",
    "            df[word] = len(documents)\n",
    "            intsect = result.intersection(documents).union(intsect)\n",
    "            result = result.union(documents)\n",
    "            \n",
    "        except KeyError:\n",
    "            continue\n",
    "\n",
    "    for document in result:\n",
    "        doc = ind.docHashmap[document]\n",
    "        doc.tf_idf(processedStrings,df)\n",
    "        helpDict[doc.id] = doc.score\n",
    "        \n",
    "    for key in intsect:\n",
    "        helpDict2[key] = helpDict[key]\n",
    "        helpDict.pop(key)\n",
    "        \n",
    "    sortedDict = sorted(helpDict.items(), key=operator.itemgetter(1))\n",
    "    sortedDict2 = sorted(helpDict2.items(), key=operator.itemgetter(1))\n",
    "\n",
    "    \n",
    "    for key,_ in sortedDict:\n",
    "        resultList.append(ind.docHashmap[key].url)\n",
    "    \n",
    "    for key,_ in sortedDict2:\n",
    "        resultList2.append(ind.docHashmap[key].url)\n",
    "    \n",
    "    \n",
    "    resultList = resultList[::-1]\n",
    "    resultList2 = resultList2[::-1]\n",
    "    \n",
    "    return resultList2+resultList\n",
    "\n",
    "Index.retrieve = retrieve"
   ]
  },
  {
   "cell_type": "code",
   "execution_count": 40,
   "metadata": {
    "collapsed": true
   },
   "outputs": [],
   "source": [
    "def tf_idf(self, termList, df):\n",
    "    \n",
    "    tfDict = {}\n",
    "    for term in termList:\n",
    "        tfDict[term] = 0\n",
    "    \n",
    "    ind = Index()\n",
    "        \n",
    "    for term in self.textList:\n",
    "        if term in termList:\n",
    "            tfDict[term] = tfDict[term]+1\n",
    "\n",
    "    for key, value in df.items():\n",
    "        idf = math.log((ind.fileCount/value+1),10)\n",
    "        tfDict[key] = tfDict[key]*idf\n",
    "    \n",
    "    self.score = sum(tfDict.values())\n",
    "\n",
    "Document.tf_idf = tf_idf"
   ]
  },
  {
   "cell_type": "code",
   "execution_count": 41,
   "metadata": {
    "collapsed": false
   },
   "outputs": [],
   "source": [
    "ind = Index()\n",
    "ind.buildIndex()"
   ]
  },
  {
   "cell_type": "code",
   "execution_count": 87,
   "metadata": {
    "collapsed": false
   },
   "outputs": [
    {
     "name": "stdout",
     "output_type": "stream",
     "text": [
      "F:\\Jonas\\IT\\Springer-Bücher\\Spracherkennung und -vararbeitung\\2008_Book_Sprachverarbeitung.pdf\n",
      "F:\\Jonas\\IT\\Springer-Bücher\\Spracherkennung und -vararbeitung\\2006_Book_GrundkursSpracherkennung.pdf\n",
      "F:\\Jonas\\IT\\Springer-Bücher\\Robotik\\2013_Book_HandbuchRobotik.pdf\n",
      "F:\\Jonas\\IT\\Springer-Bücher\\Quantencomputer\\Quantencomputing_verstehen_Auflage_5.pdf\n",
      "F:\\Jonas\\IT\\Springer-Bücher\\Quantencomputer\\Quantencomputing_verstehen_Auflage_4.pdf\n",
      "F:\\Jonas\\IT\\Springer-Bücher\\Quantencomputer\\Quantencomputing_verstehen_Auflage_2.pdf\n",
      "F:\\Jonas\\IT\\Springer-Bücher\\Physik\\2018_Book_PhilosophieDerQuantenphysik.pdf\n",
      "F:\\Jonas\\IT\\Springer-Bücher\\Physik\\2015_Book_PhilosophieDerQuantenphysik.pdf\n",
      "F:\\Jonas\\IT\\Springer-Bücher\\Künstliche Intelligenz\\Künstliche_Intelligenz-Technologie-Anwendung-Gesellschaft.pdf\n",
      "F:\\Jonas\\IT\\Springer-Bücher\\Embedded Systems\\2019_Book_EmbeddedSystemsFürIoT.pdf\n",
      "F:\\Jonas\\IT\\Springer-Bücher\\Bioinformatik\\2006_Book_SoftComputingInDerBioinformati.pdf\n",
      "F:\\Jonas\\IT\\Springer-Bücher\\Betriebssysteme\\2017_Book_Betriebssysteme.pdf\n",
      "F:\\Jonas\\IT\\Springer-Bücher\\Technische Informatik\\2005_Book_TechnischeInformatik2.pdf\n",
      "F:\\Jonas\\IT\\Springer-Bücher\\Algorithmen\\2012_Book_AlgorithmenUndDatenstrukturen.pdf\n",
      "F:\\Jonas\\IT\\Springer-Bücher\\Spracherkennung und -vararbeitung\\2017_Book_Sprachverarbeitung.pdf\n",
      "F:\\Jonas\\IT\\Springer-Bücher\\Verteilte Systeme\\2012_Book_VerteilteSysteme.pdf\n",
      "F:\\Jonas\\IT\\Springer-Bücher\\Verteilte Systeme\\2010_Book_Grid-Computing.pdf\n",
      "F:\\Jonas\\IT\\Springer-Bücher\\Theoretische Informatik\\2018_Book_TheoretischeInformatik.pdf\n",
      "F:\\Jonas\\IT\\Springer-Bücher\\Theoretische Informatik\\2016_Book_GrundkursTheoretischeInformati.pdf\n",
      "F:\\Jonas\\IT\\Springer-Bücher\\Theoretische Informatik\\2014_Book_TheoretischeInformatik.pdf\n",
      "F:\\Jonas\\IT\\Springer-Bücher\\Theoretische Informatik\\2011_Book_TheoretischeInformatik.pdf\n",
      "F:\\Jonas\\IT\\Springer-Bücher\\Theoretische Informatik\\2008_Book_TheoretischeInformatik.pdf\n",
      "F:\\Jonas\\IT\\Springer-Bücher\\Theoretische Informatik\\2005_Book_FundamentalsOfComputationTheor.pdf\n",
      "F:\\Jonas\\IT\\Springer-Bücher\\Spracherkennung und -vararbeitung\\2013_Book_ComputationalLinguistics.pdf\n",
      "F:\\Jonas\\IT\\Springer-Bücher\\Rendering\\2019_Book_RayTracingGems.pdf\n",
      "F:\\Jonas\\IT\\Springer-Bücher\\Raspberry\\2014_Book_MasteringTheRaspberryPi.pdf\n",
      "F:\\Jonas\\IT\\Springer-Bücher\\Raspberry\\2014_Book_LearnRaspberryPiProgrammingWit.pdf\n",
      "F:\\Jonas\\IT\\Springer-Bücher\\Raspberry\\2013_Book_SmartHomeAutomationWithLinuxAn.pdf\n",
      "F:\\Jonas\\IT\\Springer-Bücher\\Raspberry\\2013_Book_PracticalRaspberryPi.pdf\n",
      "F:\\Jonas\\IT\\Springer-Bücher\\Quantencomputer\\2018_Book_PracticalQuantumComputingForDe.pdf\n",
      "F:\\Jonas\\IT\\Springer-Bücher\\Physik\\2017_Book_Physik.pdf\n",
      "F:\\Jonas\\IT\\Springer-Bücher\\Physik\\2014_Book_Physik.pdf\n",
      "F:\\Jonas\\IT\\Springer-Bücher\\Mathematik\\2017_Book_TaschenbuchDerMathematikUndPhy.pdf\n",
      "F:\\Jonas\\IT\\Springer-Bücher\\Mathematik\\2017_Book_MathematikFürDieInformatik.pdf\n",
      "F:\\Jonas\\IT\\Springer-Bücher\\Mathematik\\2012_Book_MathematikFürIngenieureUndNatu.pdf\n",
      "F:\\Jonas\\IT\\Springer-Bücher\\Mathematik\\2012_Book_MathematikFürInformatiker.pdf\n",
      "F:\\Jonas\\IT\\Springer-Bücher\\Mathematik\\2006_Book_ArbeitsbuchMathematikFürIngeni.pdf\n",
      "F:\\Jonas\\IT\\Springer-Bücher\\Künstliche Intelligenz\\Künstliche_Intelligenz-Grundlagen_3_Auflage.pdf\n",
      "F:\\Jonas\\IT\\Springer-Bücher\\Künstliche Intelligenz\\Künstliche_Intelligenz-Grundlagen.pdf\n",
      "F:\\Jonas\\IT\\Springer-Bücher\\Künstliche Intelligenz\\IR_und_KI.pdf\n",
      "F:\\Jonas\\IT\\Springer-Bücher\\Künstliche Intelligenz\\2018_Book_PracticalArtificialIntelligenc.pdf\n",
      "F:\\Jonas\\IT\\Springer-Bücher\\Java\\2018_Book_JavaLanguageFeatures.pdf\n",
      "F:\\Jonas\\IT\\Springer-Bücher\\IT Sicherheit\\IT_Sicherheit-Digitalisierung.pdf\n",
      "F:\\Jonas\\IT\\Springer-Bücher\\IT Sicherheit\\Hacking_Python.pdf\n",
      "F:\\Jonas\\IT\\Springer-Bücher\\IT Sicherheit\\Hacking_Kali.pdf\n",
      "F:\\Jonas\\IT\\Springer-Bücher\\IT Sicherheit\\From_Hacking_To_Report_Writing.pdf\n",
      "F:\\Jonas\\IT\\Springer-Bücher\\Embedded Systems\\2016_Book_BuildingEmbeddedSystems.pdf\n",
      "F:\\Jonas\\IT\\Springer-Bücher\\Embedded Systems\\2014_Book_EntwicklungEingebetteterSystem.pdf\n",
      "F:\\Jonas\\IT\\Springer-Bücher\\Embedded Systems\\2009_Book_SpatialAwarenessOfAutonomousEm.pdf\n",
      "F:\\Jonas\\IT\\Springer-Bücher\\Echtzeitsysteme\\2005_Book_Echtzeitsysteme.pdf\n",
      "F:\\Jonas\\IT\\Springer-Bücher\\Datenbanken\\Query_Performance_MSSQL.pdf\n",
      "F:\\Jonas\\IT\\Springer-Bücher\\Datenbanken\\2007_Book_Datenbanken.pdf\n",
      "F:\\Jonas\\IT\\Springer-Bücher\\Datenbanken\\2006_Book_GrundkursRelationaleDatenbanke.pdf\n",
      "F:\\Jonas\\IT\\Springer-Bücher\\Data Warehouse\\2008_Book_BuildingADataWarehouse.pdf\n",
      "F:\\Jonas\\IT\\Springer-Bücher\\Computer Vision\\2018_Book_PracticalComputerVisionApplica.pdf\n",
      "F:\\Jonas\\IT\\Springer-Bücher\\Computer Vision\\2014_Book_ComputerVisionMetrics.pdf\n",
      "F:\\Jonas\\IT\\Springer-Bücher\\Compilerbau\\2014_Book_FormaleSprachenAbstrakteAutoma.pdf\n",
      "F:\\Jonas\\IT\\Springer-Bücher\\Compilerbau\\2009_Book_FormaleSprachenAbstrakteAutoma.pdf\n",
      "F:\\Jonas\\IT\\Springer-Bücher\\Chemie\\2012_Book_Chemie.pdf\n",
      "F:\\Jonas\\IT\\Springer-Bücher\\Chemie\\2010_Book_Chemie.pdf\n",
      "F:\\Jonas\\IT\\Springer-Bücher\\Big Data\\Big_Data_Chance-Risiken-Entwicklung.pdf\n",
      "F:\\Jonas\\IT\\Springer-Bücher\\Big Data\\2015_Book_BigData.pdf\n",
      "F:\\Jonas\\IT\\Springer-Bücher\\Betriebssysteme\\2014_Book_GrundkursBetriebssysteme.pdf\n",
      "F:\\Jonas\\IT\\Springer-Bücher\\Betriebssysteme\\2013_Book_GrundkursBetriebssysteme.pdf\n",
      "F:\\Jonas\\IT\\Springer-Bücher\\App-Entwicklung\\2015_Book_EntwicklungMobilerApps.pdf\n",
      "F:\\Jonas\\IT\\Springer-Bücher\\Algorithmen\\2018_Book_DatenstrukturenUndAlgorithmen.pdf\n",
      "F:\\Jonas\\IT\\Springer-Bücher\\Algorithmen\\2013_Book_AlgorithmenUndDatenstrukturen.pdf\n",
      "F:\\Jonas\\IT\\Springer-Bücher\\Algorithmen\\2012_Book_EntwurfUndAnalyseVonAlgorithme.pdf\n",
      "F:\\Jonas\\IT\\Springer-Bücher\\Algorithmen\\2009_Book_GraphentheoretischeKonzepteUnd.pdf\n"
     ]
    }
   ],
   "source": [
    "resultSet = ind.retrieve(\"hidden markow modell\")\n",
    "if resultSet:\n",
    "    for elem in resultSet:\n",
    "        if elem.split('.')[-1] != 'dat':\n",
    "            print(elem)"
   ]
  },
  {
   "cell_type": "code",
   "execution_count": null,
   "metadata": {
    "collapsed": false
   },
   "outputs": [],
   "source": [
    "for index in [1, 2, 166, 137, 138, 171, 210]:\n",
    "    print(ind.docHashmap[index].url)"
   ]
  },
  {
   "cell_type": "code",
   "execution_count": null,
   "metadata": {
    "collapsed": true
   },
   "outputs": [],
   "source": []
  }
 ],
 "metadata": {
  "kernelspec": {
   "display_name": "Python 3",
   "language": "python",
   "name": "python3"
  },
  "language_info": {
   "codemirror_mode": {
    "name": "ipython",
    "version": 3
   },
   "file_extension": ".py",
   "mimetype": "text/x-python",
   "name": "python",
   "nbconvert_exporter": "python",
   "pygments_lexer": "ipython3",
   "version": "3.6.0"
  }
 },
 "nbformat": 4,
 "nbformat_minor": 2
}
