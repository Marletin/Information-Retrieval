{
 "cells": [
  {
   "cell_type": "code",
   "execution_count": 1,
   "metadata": {},
   "outputs": [
    {
     "data": {
      "text/html": [
       "<style>.container { width:100%; !important } </style>"
      ],
      "text/plain": [
       "<IPython.core.display.HTML object>"
      ]
     },
     "metadata": {},
     "output_type": "display_data"
    }
   ],
   "source": [
    "from IPython.core.display import HTML, display\n",
    "display(HTML('<style>.container { width:100%; !important } </style>'))"
   ]
  },
  {
   "cell_type": "markdown",
   "metadata": {},
   "source": [
    "# Beispiel-Implementierung: Lokale Suchmaschine\n",
    "\n",
    "## Ziel der Beispiel-Implementierung\n",
    "Im Folgenden wird eine Anwendung der zuvor theoretisch diskutierten Inhalte vorgestellt. Dabei soll eine lokale Suchmaschine entwickelt werden, welche in der Lage ist, pdf-Dateien auf einem lokalen Computer-System zu parsen, in einen invertierten Index aufzunehmen sowie Suchanfragen eines Benutzers sinnvoll zu beantworten. <br>\n",
    "Zur Relevanz-Bestimmung der Dokumente wird das TF-IDF-Maß, welches bereits vorgestellt wurde, genutzt. Um den Index zu speichern, wird die von Python mitgelieferte Datenstruktur \"dictionary\", welche im Grunde eine Hashmap ist, genutzt.\n",
    "Weiter werden einige Bibliotheken eingesetzt, welche einige Vorarbeit leisten und damit den Code der Beispiel-Implementierung auf das Wesentliche beschränken. So soll die grundlegende Arbeitsweise eines Information Retrieval-Systems dargelegt werden.\n",
    "\n",
    "## Genutzte Bibliotheken\n",
    "Bevor mit der eigentlichen Implementierung der lokalen Suchmaschine begonnen werden kann, müssen einige Bibliotheken eingebunden werden. Darunter fallen Apache Tika, das Math-Modul von Python, os (um auf die Directories zugreifen zu können), python-magic, regular expressions (re) (und noch weitere, bei Bedarf einfügen!). <br>\n",
    "\n",
    "### Apache Tika\n",
    "Bei Apache Tika handelt es sich um ein Framework um Inhalte zu erkennen und zu analysieren. Es ist in der Lage Text und Metadaten aus über tausend verschiedenen Arten von Dateien zu extrahieren\n",
    "Tika liefert eine Parser, mit dessen Hilfe der Text aus - unter anderem - pdf-Dateien extrahiert werden kann.\n",
    "Mit dem Aufruf _parser.from_\\__file(file)_ kann eine pdf-Datei in reinen Text umgewandelt werden. Die Funktion liefert ein Dictionary zurück, welches einen Key _content_ besitzt, über den auf den Inhalt der pdf-Datei zugegriffen werden kann.\n",
    "\n",
    "### python-magic\n",
    "Mittels python-magic ist es möglich, unabhängig von der Dateiendung, den Typ einer Datei zu ermitteln. Dies hat den Vorteil, dass die Suchmaschine sowohl unter Windows, als auch unter Unix-Systemen, alle pdf-Dateien finden kann, da unter Unix die Dateiendung keine garantierten Rückschlüsse auf den Typ der Datei zulässt.\n",
    "\n",
    "### nltk\n",
    "Die Bibliothek nltk (natural language toolkit) wird verwendet, um die Eingabetexte der Dokumente und die Eingaben des Nutzers zu normalisieren. Zudem wird Stemming mithilfe von nltk durchgeführt, um Wörter auf ihren Wortstamm zurückzuführen. In den unteren Methoden wird näheres über die genutzten Operationen erläutert.\n"
   ]
  },
  {
   "cell_type": "code",
   "execution_count": 2,
   "metadata": {
    "collapsed": true
   },
   "outputs": [],
   "source": [
    "from tika import parser\n",
    "import magic\n",
    "import math\n",
    "import os\n",
    "import string\n",
    "import platform\n",
    "import operator\n",
    "import re\n",
    "from nltk.tokenize import RegexpTokenizer"
   ]
  },
  {
   "cell_type": "markdown",
   "metadata": {},
   "source": [
    "## Die Document-Klasse\n",
    "Das Speichern er für das Retrieval wichtigen Informationen, geschieht mittels einer Document-Klasse. Diese Klasse hält alle Attribute, die wichtig sind, um das TF-IDF-Maß berechnen zu können. Diese Attribute sind:\n",
    "- url\n",
    "- length\n",
    "- id\n",
    "\n",
    "Die Variable _url_ ist ein String und enthält den Pfad zum Dokument, welches durch das entsprechende Document-Objekt repräsentiert wird. _length_ ist ein Integer und beinhaltet die Anzahl der Wörter, die in dem Dokument vorkommen und _id_ ist die eindeutige Dokumenten-ID, zu der weiter unten noch genaueres gesagt wird."
   ]
  },
  {
   "cell_type": "code",
   "execution_count": 3,
   "metadata": {
    "collapsed": true
   },
   "outputs": [],
   "source": [
    "class Document:\n",
    "    def __init__(self, url, length, id, textList):\n",
    "        self.url = url\n",
    "        self.length = length\n",
    "        self.id = id\n",
    "        self.score = 0.\n",
    "        self.textList = textList"
   ]
  },
  {
   "cell_type": "markdown",
   "metadata": {},
   "source": [
    "## Der Index\n",
    "Nachdem die benötigten Bibliotheken bekannt sind, kann der Index implementiert werden. Bevor dieser jedoch aufgebaut werden kann, sind einige Vorarbeiten nötig, die durch die vorgestellten Bibliotheken gestützt werden.\n",
    "Der Index wird im Folgenden als Klasse implementiert. Diese beinhaltet die folgenden Methoden, die in den folgenden Abschnitten genauer diskutiert werden:\n",
    "- buildIndex()\n",
    "- retrieve()\n",
    "- calcTFIDF()\n",
    "\n",
    "Weiter werden die folgenden Member-Variablen benötigt:\n",
    "- hashmap\n",
    "- fileCount\n",
    "- docHashmap\n",
    "\n",
    "Die Member-Variable _hashmap_ ordnet allen Termen eine Menge von eindeutigen Dokumenten-IDs zu, in denen sie vorkommen. Im Dictionary _docHashmap_ werden die Dokuemnten-IDs als Key genutzt, um eine Zurodnung von Dokumenten-IDs auf Document-Objekte zu ermöglichen. Die Variable _fileCount_ ist ein Integer und wird für jedes gefundene Dokument um _1_ hochgezählt. Damit ist diese Variable qualifiziert als eindeutige Dokumenten-ID zu fungieren, wofür sie genutzt wird.\n"
   ]
  },
  {
   "cell_type": "code",
   "execution_count": 4,
   "metadata": {
    "collapsed": true
   },
   "outputs": [],
   "source": [
    "class Index:\n",
    "    hashmap = {} #dictionary\n",
    "    fileCount = 0 #integer, Gesamtzahl aller gefunden Dateien\n",
    "    docHashmap = {}"
   ]
  },
  {
   "cell_type": "markdown",
   "metadata": {},
   "source": [
    "### buildIndex\n",
    "Die Methode _buildIndex_ baut - wie der Name bereits vermuten lässt - den Index auf. Dabei dient ein Dictionary als Basis-Datenstruktur.\n",
    "\n",
    "Der erste Schritt stellt das Iterieren über alle Directories dar. Gestartet wird bei Linux-Systemen im Root-Directory, unter Windows-Systemen muss über jede Partition iteriert werden. Als nächstes wird über alle Dateien in den Verzeichnissen iteriert. Für jede Datei wird durch python-magic ermittelt, ob es sich um ein pdf-Dokument handelt. Ist ein Dokument vom Typ _pdf_, wird mithilfe von tika der Text aus dem pdf-Dokument extrahiert. \n",
    "\n",
    "Für jede entdeckte pdf-Datei wird ein Zähler erhöht, welcher eine eindeutige Dokumenten-ID darstellt. Anschlißend wird mittels der Hilfsmethode _\\__processText_ der Text der pdf-Dateien normalisiert. Diese Methode wird weiter unten genauer betrachtet.\n",
    "\n",
    "Die letzten Schritte beinhalten das Anlegen eines neuen Dokumenten-Objekts, welches in das Dictionary _docHashmap_ eingefügt wird. Zudem wird die Dokumenten-ID mithilfe der Hilfsmethode  _\\__addToIndex_ dem Dictionary _hasmap_ hinzugefügt, welches den eigentlichen Index enthält."
   ]
  },
  {
   "cell_type": "code",
   "execution_count": 5,
   "metadata": {
    "collapsed": true
   },
   "outputs": [],
   "source": [
    "def buildIndex(self):\n",
    "    \n",
    "    #startDirectories = self._getStartDirectories()\n",
    "    startDirectories = [r\"M:\\Studium\"]\n",
    "    mime = magic.Magic(mime=True)\n",
    "    \n",
    "    for directory in startDirectories:\n",
    "        for root, _, files in os.walk(directory):\n",
    "            for file in files:\n",
    "                \n",
    "                path = os.path.abspath(os.path.join(root, file))\n",
    "                \n",
    "                try:\n",
    "                    if mime.from_file(path) == \"application/pdf\":\n",
    "\n",
    "                        fileData = parser.from_file(path)\n",
    "                        rawText = fileData['content']\n",
    "                        self.fileCount += 1\n",
    "                    \n",
    "                        processedText = self._preprocessText(rawText)\n",
    "                        document = Document(path, len(processedText), self.fileCount, processedText)\n",
    "                        self.docHashmap.update({self.fileCount : document})\n",
    "                        self._addToIndex(self.fileCount, processedText)\n",
    "                except:\n",
    "                    continue\n",
    "\n",
    "Index.buildIndex = buildIndex"
   ]
  },
  {
   "cell_type": "markdown",
   "metadata": {},
   "source": [
    "### Hilfsmethoden\n",
    "In diesem Abschnitt werden die genutzten Hilfsmethoden vorgestellt und am Code erklärt, wie die Funktionsweise implementiert wurde.\n",
    "\n",
    "#### _getStartDirectories\n",
    "Die Methode <i>\\_getSartDirectories</i> liefert eine Liste der Start-Verzeichnisse, abhängig vom Betriebssystem auf dem die Suchmaschine läuft, zurück. In diesen Verzeichnissen werden nach pdf-Dateien gesucht, welche in den Index mit einfließen. Falls das zugrunde liegende Betriebssystem ein Linux-basiertes System ist, wird die Liste <i>[\"/\"]</i> zurückgegeben, da das Verzeichnis _/_ immer das root-Verzeichnis ist. Bei auf Windows basierenden Systemen gibt es wiederum mehrere Partitionen, welche immer mit einem Großbuchstaben abgekürtzt, und somit auch mehrere root-Verzeichnisse.\n",
    "\n",
    "Zuerst wird geprüft welches Betriebssystem vorliegt. Bei einem auf Linux basierenden System wird einfach eine List mit dem Element _\"/\"_ erstellt. Bei einem auf Windows basierenden Betriebssystem ist das erstellen der Startverzeichnisse aufwendiger. Hierbei werden alle Großbuchstaben darauf geprüft eine Partition zu sein. Dies wird mithilfe der _os.path.exists_-Methode realisiert. Ist ein Großbuchstabe tatsächliche eine Partition auf dem Computer, so wird er in der Liste gespeichert. Jedoch wird an den Großbuchstaben noch der String _\":\\\\\"_ angehangen, damit die _buildIndex_-Methode mit den Elementen als Start-Verzeichnisse arbeiten kann."
   ]
  },
  {
   "cell_type": "code",
   "execution_count": 6,
   "metadata": {
    "collapsed": true
   },
   "outputs": [],
   "source": [
    "def _getStartDirectories(self):\n",
    "\n",
    "    if platform.system() == \"Linux\":\n",
    "        directories = [\"/\"]\n",
    "        \n",
    "    elif platform.system() == \"Darwin\":\n",
    "        directories = [\"/\"]\n",
    "        \n",
    "    elif platform.system() == \"Windows\":\n",
    "        directories = ['%s:\\\\' % d for d in string.ascii_uppercase if os.path.exists('%s:' % d)]\n",
    "        \n",
    "    else:\n",
    "        raise EnvironmentError\n",
    "        \n",
    "    return directories\n",
    "\n",
    "Index._getStartDirectories = _getStartDirectories"
   ]
  },
  {
   "cell_type": "markdown",
   "metadata": {},
   "source": [
    "#### _addToIndex\n",
    "\n",
    "Die Methode <i>\\_addToIndex</i> soll die Dokumenten ID zu den invertierten Index der in dem Dokument vorkommenden Terme hinzufügen. Hierfür bekommt die Methode eine Liste von Termen die in einem PDF-Dokument vorkommen und die zum Dokumente gehörige Document ID als Parameter übergeben.\n",
    "\n",
    "Für jeden Term in der Liste _terms_ wird dazu der zum Term gehörige Eintrag im invertierten Index \n",
    "\n",
    "Schlägt der Versuch, die Menge für den Term _term_ aus dem Dictionary zu holen, fehl, existiert noch keine Menge. In diesem Fall wird eine neue Menge erstellt und für den Term _term_ ein Eintrag im Dictionary hinzugefügt, der auf die neu erstellte Menge referenziert."
   ]
  },
  {
   "cell_type": "code",
   "execution_count": 7,
   "metadata": {
    "collapsed": true
   },
   "outputs": [],
   "source": [
    "def _addToIndex(self, documentID, terms):\n",
    "    \n",
    "    for term in terms:\n",
    "        \n",
    "        try:\n",
    "            docSet = self.hashmap[term]\n",
    "            docSet.add(documentID)\n",
    "            self.hashmap.update({term : docSet})\n",
    "            \n",
    "        except KeyError:\n",
    "            docSet = {documentID}\n",
    "            self.hashmap.update({term : docSet})\n",
    "    \n",
    "Index._addToIndex = _addToIndex"
   ]
  },
  {
   "cell_type": "markdown",
   "metadata": {},
   "source": [
    "#### _preprocessText\n",
    "Diese Methode dient der Vorverarbeitung der Texte, die in den pdf-Dokumenten stehen. Hierfür wird der Text eines PDF-Dokumentes an den Parameter _text_ übergeben. Als erster Schritt wird der gesamte Text in Lower-Case (Kleinschreibung) gesetzt, damit später bei der Suche die Groß- bzw. Kleinschreibung irrelevant ist. Das Ergebnis wird in der Variable _lowerText_ gespeichert.\n",
    "Im nächsten Schritt werden alle Zahlen aus _lowerText_ entfernt und in _prepText_ gespeichert, da Zahlen für die Textsuche nicht von Bedeutung sind.\n",
    "\n",
    "Als nächstes wird mithilfe der Klasse _RegexpTokenizer_, die durch die nltk-Bibliothek zur Verfügung gestellt wird, der String _prepText_ in eine Liste von Tokens aufgespalten. Was als Token gewertet wird, wird mithilfe einer _regular expression_ definiert, im Deutschen regulärer Ausdruck genannt. Ein regulärer Ausdruck ist eine Zeichenkette, welche eine Menge von bestimmten Zeichenketten beschreibt. Der gewünschte reguläre Ausdruck wird dem Konstruktor der _RegexpTokenizer_-Klasse in Form eines raw Strings übergeben. Ein raw String ist ein String, welcher mit einem _r_ am Anfang gekennzeichnet ist und ein Backslash (\\\\) als ein Literal behandelt und nicht als ein Escape-Zeichen. Dies ist bei regulären Ausdrücken nützlich, da in diesen viel mit Backslashes gearbeitet wird.\n",
    "\n",
    "Im Folgenden wird der raw String bzw. reguläre Ausdruck näher betrachtet, um zu verstehen, was als ein Token gewertet wird. Der erste Teil des regulären Ausdrucks _[a-zA-Z]+-\\$_ definiert alle Buchstabenketten mit einen oder mehreren Elementen, die mit einem Bindestrich enden, als Token. Die eckigen Klammern werden bei regulären Ausdrücken genutzt, um eine Zeichenauswahl zu definieren. Das bedeutet, dass ein Zeichen aus dieser Auswahl dann an dieser Stelle steht. Mithilfe von Quantoren kann definiert werden, wie viele Zeichen einer Auswahl hintereinander stehen dürfen. Das Pluszeichen ist genau so ein Quantor, welcher aussagt, dass mindestens ein oder mehrere Zeichen der Zeichenauswahl hintereinander vorkommen muss.\n",
    "Das Dollarzeichen definiert das Ende einer Zeichenkette. Dadurch das ein Bindestrich vor das Dollarzeichen des regulären Ausdrucks gesetzt haben, bedeutet der reguläre Teilausdruck _-$_, dass die Zeichenkette auf einem Bindestrich endet. Bei dem |-Zeichen handelt es sich um eine logische Oderverknüpfung, die es ermöglicht, mehrere reguläre Ausdrücke zu verknüpfen. In unserem Fall _\\w+_.\n",
    "Der zweite reguläre Ausdruck _\\w+_ definiert alle alphanumerischen Zeichenketten mit einem oder mehreren Elementen als Token. Hierbei ist _\\w_ eine vordefinierte Zeichenklasse für den regulären Ausdruck <i>[a-zA-Z_0-9]</i> und beinhaltet außer alphanumerische Werte auch noch den Unterstrich. Das Pluszeichen ist hier wieder der Quantor, welcher aussagt, dass aus dieser Zeichenklasse ein oder mehrere Zeichen hintereinander vorkommen muss.\n",
    "Mithilfe der _tokenize_-Methode wird der reguläre Ausdruck auf den String _prepText_ angewendet. Jeder Substring des mitgegebenen Strings, der den regulären Ausdruck erfüllt, wird an die Liste _tokenList_ angefügt.\n",
    "\n",
    "Der Grund warum die Wörter, die auf einem Bindestrich enden, bei der Tokenerzeugen extra beachtet werden, ist der, dass die Wörter, welche bei Zeilenumbrüchen getrennt werden, wieder zusammengefügt werden sollen. In der for-Schleife werden diese Tokens auf die Eigenschaft hin, auf einem Bindestrich zu enden, geprüft und gegebenenfalls zusammengesetzt. Dazu wird der Bindestrich aus dem Token entfernt und mit dem nächsten Token in der Tokenliste verknüpft (_token[:-1]+tokenList[index+1]_). Die Tokenliste wird darauf hin aktualisiert. Der neu zusammengesetzte Token ersetzt den Token mit dem Bindestrich und der nächste Token der Liste wird gelöscht. \n",
    "\n",
    "Diese Methode ist jedoch nicht immer korrekt, denn es kann auch folgender Fall eintreten: Eine Zeile endet zum Beispiel mit _Damen-_ und die nächste Zeile geht mit _und Herrenschuhe_ weiter. In diesem Fall ist der Bindestrich gewollt, der Algorithmus fügt jedoch die Wörter _Damen_ und _und_ zu einem Wort zusammen. Da davon auszugehen ist, dass dieser Fall selten eintritt, wurde er aber vernachlässigt."
   ]
  },
  {
   "cell_type": "code",
   "execution_count": 14,
   "metadata": {
    "collapsed": true
   },
   "outputs": [],
   "source": [
    "def _preprocessText(self, text):\n",
    "    \n",
    "    lowerText = text.lower()\n",
    "    \n",
    "    prepText = re.sub(r'\\d+', '', lowerText)\n",
    "            \n",
    "    tokenizer = RegexpTokenizer(r'[a-zA-Z]+-$|\\w+')\n",
    "    tokenList = tokenizer.tokenize(prepText)\n",
    "    \n",
    "    for token in tokenList:\n",
    "        if token[-1] == '-':\n",
    "            \n",
    "            index = tokenList.index(token)\n",
    "            compositeWord = token[:-1]+tokenList[index+1]\n",
    "            tokenList[index] = compositeWord\n",
    "            del tokenList[index+1]\n",
    "            \n",
    "    return tokenList\n",
    "    \n",
    "Index._preprocessText = _preprocessText"
   ]
  },
  {
   "cell_type": "markdown",
   "metadata": {},
   "source": [
    "# retrieve\n",
    "Die retrieve-Methode dient der Suche. Die Idee dabei ist, dass der Nutzer ein oder mehrere Schlagworte eingeben kann, auf deren Basis die am besten passenden Dokumente zurückgeliefert werden. Auch die Schlagworte werden den gleichen Normalisierungs-Prozess durchlaufen wie die Texte der Dokumente.\n",
    "\n",
    "Zunächst wird der Such-String des Nutzers mittels der bereits bekannten Methode _\\__preprocessText_ normalisiert. Im zweiten Schritt wird eine leere Menge angelegt, in der die Dokumenten-IDs, die zu den Termen gefunden werden, gespeichert. Mithilfe der for-Schleife wird über _processedStrings_ iteriert. Für jedes Wort wird versucht, die Menge aller Dokumenten-IDs zu dem Term _word_ aus dem Index zu beschaffen. Existiert die Menge zu dem Term _word_, wird die Vereinigung der bereits in der Menge _result_ stehenden Dokumenten-IDs und der mit dem Term _word_ gefundenen Dokumenten-IDs gebildet. Existiert der Term _word_ nicht als Key im Index, wird beim nächsten Term der Liste _processedStrings_ fortgefahren."
   ]
  },
  {
   "cell_type": "code",
   "execution_count": 35,
   "metadata": {
    "collapsed": true
   },
   "outputs": [],
   "source": [
    "def retrieve(self, searchString):\n",
    " \n",
    "    processedStrings = self._preprocessText(searchString)\n",
    "    result = set()\n",
    "    df = {}\n",
    "    helpDict = {}\n",
    "    resultList = []\n",
    "    \n",
    "    for word in processedStrings:\n",
    "        try:\n",
    "            documents = set(self.hashmap[word])\n",
    "            df[word] = len(documents)\n",
    "            result = result.union(documents)\n",
    "            \n",
    "        except KeyError:\n",
    "            continue\n",
    "\n",
    "    for document in result:\n",
    "        doc = ind.docHashmap[document]\n",
    "        doc.tf_idf(processedStrings,df)\n",
    "        helpDict[doc.id] = doc.score\n",
    "        \n",
    "    sortedDict = sorted(helpDict.items(), key=operator.itemgetter(1))\n",
    "    \n",
    "    for key,_ in sortedDict:\n",
    "        resultList.append(ind.docHashmap[key].url)\n",
    "        \n",
    "    return resultList[::-1]\n",
    "\n",
    "Index.retrieve = retrieve"
   ]
  },
  {
   "cell_type": "markdown",
   "metadata": {},
   "source": [
    "# TF-IDF\n",
    "Die tf_idf-Methode wird in die Dokumentenklasse implementiert Für die Berechnung des TF-IDF-Maßes werden folgende Werte benötigt:\n",
    "\n",
    "- die Terme, welche gesucht werden bzw. in die Query eingegeben wurden\n",
    "- für jeden Term die Anzahl der Vorkommnisse im Dokument\n",
    "- für jeden Term die Anzahl der Dokumente, welche für den einen Term gefunden wurden (Document Frequency)\n",
    "- die Anzahl der Dokumente in der Kollektion\n",
    "- d"
   ]
  },
  {
   "cell_type": "code",
   "execution_count": 16,
   "metadata": {
    "collapsed": true
   },
   "outputs": [],
   "source": [
    "def tf_idf(self, termList, df):\n",
    "    \n",
    "    tfDict = {}\n",
    "    for term in termList:\n",
    "        tfDict[term] = 0\n",
    "    \n",
    "    ind = Index()\n",
    "        \n",
    "    for term in self.textList:\n",
    "        if term in termList:\n",
    "            tfDict[term] = tfDict[term]+1\n",
    "\n",
    "    for key, value in df.items():\n",
    "        idf = math.log((ind.fileCount+1/value+1),10)\n",
    "        tfDict[key] = tfDict[key]*idf\n",
    "    \n",
    "    self.score = sum(tfDict.values())\n",
    "\n",
    "Document.tf_idf = tf_idf"
   ]
  },
  {
   "cell_type": "code",
   "execution_count": 17,
   "metadata": {},
   "outputs": [],
   "source": [
    "ind = Index()\n",
    "ind.buildIndex()"
   ]
  },
  {
   "cell_type": "code",
   "execution_count": 36,
   "metadata": {},
   "outputs": [
    {
     "name": "stdout",
     "output_type": "stream",
     "text": [
      "M:\\Studium\\Java\\Folien.pdf\n",
      "M:\\Studium\\Java\\Klausurrelevant.pdf\n",
      "M:\\Studium\\Web Engineering 2\\restful-java-with-jax-rs-2-0-2rd-edition-en.pdf\n",
      "M:\\Studium\\Praxisbericht_3\\T3000_TINF16AIBI_Richter_Jesse-Jermaine.pdf\n",
      "M:\\Studium\\Verteilte Systeme\\Folien\\03-RMI.pdf\n",
      "M:\\Studium\\Compilerbau\\Java_Haskell_Compiler.pdf\n",
      "M:\\Studium\\Compilerbau\\Java_Haskell_Compiler3.pdf\n",
      "M:\\Studium\\Web Engineering 2\\5.1-JSP.pdf\n",
      "M:\\Studium\\Algorithmen\\algorithms.pdf\n",
      "M:\\Studium\\Formale Sprachen & Automaten\\KIT_Formale-Sprachen[881].pdf\n",
      "M:\\Studium\\Datenbanken\\10 Datenbanken I - Wiederholung, Vertiefung und Zusatzthemen.pdf\n",
      "M:\\Studium\\T2000\\Scan_JesseRichter_20180914124926.pdf\n",
      "M:\\Studium\\Compilerbau\\Java_Haskell_Compiler1.pdf\n",
      "M:\\Studium\\Compilerbau\\Java_Haskell_Compiler5.pdf\n",
      "M:\\Studium\\Java\\Klausur Java-Programmierung SS 2012.pdf\n",
      "M:\\Studium\\Praxisbericht_3\\Bewertung\\Drucken.pdf\n",
      "M:\\Studium\\Praxisbericht_3\\Bewertung\\Ablauf_und_Reflexion_der_Praxisphase_Teil_B.pdf\n",
      "M:\\Studium\\Praxisbericht_2\\Monitoring.pdf\n",
      "M:\\Studium\\Praxisbericht_2\\Monitoring-LAPTOP-2NADN4MG.pdf\n",
      "M:\\Studium\\Praxisbericht_2\\Monitoring-LAPTOP-2NADN4MG-2.pdf\n",
      "M:\\Studium\\Big Data\\Vorlesung\\BigDataAnalytics-Lecture-04.pdf\n",
      "M:\\Studium\\Web Engineering 2\\2.2-WBA-Architecture.pdf\n",
      "M:\\Studium\\Compilerbau\\folien-01.pdf\n",
      "M:\\Studium\\Compilerbau\\Java_Haskell_Compiler2.pdf\n",
      "M:\\Studium\\Verteilte Systeme\\Folien\\04-Namensdienste.pdf\n",
      "M:\\Studium\\Datenbanken II\\Datenbanken II.pdf\n",
      "M:\\Studium\\Compilerbau\\Java_Haskell_Compiler4.pdf\n",
      "M:\\Studium\\C\\Nachschreibklausur_Pr.pdf\n",
      "M:\\Studium\\Web Engineering\\20161208-Vorlesung-06.pdf\n",
      "M:\\Studium\\Verteilte Systeme\\Folien\\02-Middleware.pdf\n",
      "M:\\Studium\\Software Engineering 2\\2_DesignPatterns-MusterKlassifikation.pdf\n",
      "M:\\Studium\\C\\Klausur_J2.pdf\n",
      "M:\\Studium\\Web Engineering\\20170112-Vorlesung-08.pdf\n",
      "M:\\Studium\\E-Business\\E_COMMERCE_2017_1.pdf\n",
      "M:\\Studium\\Web Engineering 2\\1.2-servlets.pdf\n",
      "M:\\Studium\\C\\Klausur_J.pdf\n",
      "M:\\Studium\\Betriebssysteme\\betriebssysteme-01-17-09-21.pdf\n",
      "M:\\Studium\\Big Data\\Vorlesung\\BigDataAnalytics-Lecture-02.pdf\n",
      "M:\\Studium\\Web Engineering 2\\1.2-HTTP.pdf\n",
      "M:\\Studium\\Web Engineering 2\\3.1-Authentisierung_WebAppls.pdf\n",
      "M:\\Studium\\Verteilte Systeme\\Folien\\05-Prozessmanagement.pdf\n",
      "M:\\Studium\\Software Architecture Management\\SoftwareArchitektur_folien.pdf\n",
      "M:\\Studium\\IT-Sicherheit\\Vorlesungen\\2_Web_Anwendungen.pdf\n",
      "M:\\Studium\\IT-Sicherheit\\Zusammenfassung.pdf\n",
      "M:\\Studium\\Interaktive Systeme\\04 Interaktive Systeme - Hoeren.pdf\n",
      "M:\\Studium\\Compilerbau\\blatt2.pdf\n",
      "M:\\Studium\\Analysis\\analysis.pdf\n",
      "M:\\Studium\\Web Engineering 2\\5.4-ServerPush.pdf\n",
      "M:\\Studium\\Web Engineering 2\\5.2-Filterss.pdf\n",
      "M:\\Studium\\Web Engineering 2\\3.3-Servlets-API.pdf\n",
      "M:\\Studium\\Web Engineering\\20161027-Vorlesung-01.pdf\n",
      "M:\\Studium\\Studienarbeit\\irbookonlinereading.pdf\n",
      "M:\\Studium\\Logik\\logic.pdf\n",
      "M:\\Studium\\Kommunikations- Netzwerktechnik\\KT\\VKT00_Organisation_180213.pdf\n",
      "M:\\Studium\\Interaktive Systeme\\02 Interaktive Systeme - Sehen.pdf\n",
      "M:\\Studium\\Datenbanken\\Zusammenfassungen\\04 Relationale Modell und Algebra.pdf\n",
      "M:\\Studium\\Datenbanken\\Zusammenfassungen\\02 Geschichte und Motivation.pdf\n",
      "M:\\Studium\\Datenbanken\\05 Datenbanken I - Die Sprache SQL.pdf\n",
      "M:\\Studium\\Datenbanken\\02 Datenbanken I - Geschichte_Motivation_Grundlagen.pdf\n",
      "M:\\Studium\\Consulting\\Consulting.pdf\n",
      "M:\\Studium\\Compilerbau\\Compiler.pdf\n",
      "M:\\Studium\\Big Data\\Vorlesung\\BigDataAnalytics-Lecture-05.pdf\n",
      "M:\\Studium\\Big Data\\Vorlesung\\BigDataAnalytics-Lecture-00.pdf\n",
      "M:\\Studium\\Betriebssysteme\\betriebssysteme-02-17-09-28.pdf\n"
     ]
    }
   ],
   "source": [
    "resultSet = ind.retrieve(\"Jesse Richter Java\")\n",
    "if resultSet:\n",
    "    for elem in resultSet:\n",
    "        if elem.split('.')[-1] != 'dat':\n",
    "            print(elem)"
   ]
  },
  {
   "cell_type": "code",
   "execution_count": 31,
   "metadata": {},
   "outputs": [
    {
     "name": "stdout",
     "output_type": "stream",
     "text": [
      "M:\\Studium\\Algorithmen\\algorithms.pdf\n",
      "M:\\Studium\\Analysis\\analysis.pdf\n",
      "M:\\Studium\\Statistik\\statistik.pdf\n",
      "M:\\Studium\\Lineare Algebra\\lineare-algebra.pdf\n",
      "M:\\Studium\\Logik\\logic.pdf\n",
      "M:\\Studium\\Studienarbeit\\irbookonlinereading.pdf\n",
      "M:\\Studium\\Wissenbasierte Systeme\\artificial-intelligence.pdf\n"
     ]
    }
   ],
   "source": []
  },
  {
   "cell_type": "code",
   "execution_count": null,
   "metadata": {
    "collapsed": true
   },
   "outputs": [],
   "source": []
  }
 ],
 "metadata": {
  "kernelspec": {
   "display_name": "Python 3",
   "language": "python",
   "name": "python3"
  },
  "language_info": {
   "codemirror_mode": {
    "name": "ipython",
    "version": 3
   },
   "file_extension": ".py",
   "mimetype": "text/x-python",
   "name": "python",
   "nbconvert_exporter": "python",
   "pygments_lexer": "ipython3",
   "version": "3.6.3"
  }
 },
 "nbformat": 4,
 "nbformat_minor": 2
}
