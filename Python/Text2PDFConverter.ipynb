{
 "cells": [
  {
   "cell_type": "code",
   "execution_count": 65,
   "metadata": {},
   "outputs": [],
   "source": [
    "from fpdf import FPDF\n",
    "import re\n",
    "\n",
    "def read_file(file):\n",
    "    text = []\n",
    "    textDict = {}\n",
    "    \n",
    "    with open(file) as f:\n",
    "        text = f.read()\n",
    "        splitted = text.split('/')\n",
    "        counter = 1\n",
    "        \n",
    "        for elem in splitted:\n",
    "            textDict[counter] = elem[3:-1]\n",
    "            counter += 1\n",
    "            \n",
    "    return textDict\n",
    "\n",
    "def create_pdfs(file):\n",
    "    textDict = read_file(file)\n",
    "    for key, text in textDict.items():\n",
    "        pdf = FPDF('P', 'mm', 'A4')\n",
    "        pdf.add_page()\n",
    "        pdf.set_font('Arial','', 12)\n",
    "        pdf.cell(40, 10, text, align=\"C\")\n",
    "        pdf.output(r\"M:\\Github\\test\\\\\" + str(key) + \".pdf\")\n",
    "        pdf = None\n",
    "        "
   ]
  },
  {
   "cell_type": "code",
   "execution_count": 66,
   "metadata": {},
   "outputs": [],
   "source": [
    "create_pdfs(r\"M:\\Github\\Information-Retrieval\\npl\\doc-text\")"
   ]
  },
  {
   "cell_type": "code",
   "execution_count": null,
   "metadata": {
    "collapsed": true
   },
   "outputs": [],
   "source": []
  }
 ],
 "metadata": {
  "kernelspec": {
   "display_name": "Python 3",
   "language": "python",
   "name": "python3"
  },
  "language_info": {
   "codemirror_mode": {
    "name": "ipython",
    "version": 3
   },
   "file_extension": ".py",
   "mimetype": "text/x-python",
   "name": "python",
   "nbconvert_exporter": "python",
   "pygments_lexer": "ipython3",
   "version": "3.6.3"
  }
 },
 "nbformat": 4,
 "nbformat_minor": 2
}
