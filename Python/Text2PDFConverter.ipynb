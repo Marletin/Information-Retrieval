{
 "cells": [
  {
   "cell_type": "code",
   "execution_count": 30,
   "metadata": {
    "collapsed": false
   },
   "outputs": [],
   "source": [
    "from fpdf import FPDF\n",
    "import re\n",
    "\n",
    "def read_file(file):\n",
    "    text = []\n",
    "    regex = re.compile(r\"\\d+\")\n",
    "    with open(file) as f:\n",
    "        text = f.read()\n",
    "    splitted = text.split(\"/\")\n",
    "    text = \"\".join(splitted)\n",
    "    splitted = text.split(\"\\n\")\n",
    "    text = \" \".join(splitted)\n",
    "    text = text.split(\" \")\n",
    "    docMap = {}\n",
    "    textList = []\n",
    "    for c in text:\n",
    "        if regex.match(c):\n",
    "            processedText = \" \".join(textList)\n",
    "            docMap.update({c : processedText})\n",
    "            textList = []\n",
    "        else:\n",
    "            textList += [c]\n",
    "            \n",
    "    return docMap\n",
    "\n",
    "\n",
    "def create_pdfs(file):\n",
    "    map = read_file(file)\n",
    "    for id, text in map.items():\n",
    "        pdf = FPDF(format='letter')\n",
    "        pdf.add_page()\n",
    "        pdf.set_font(\"Arial\", size=12)\n",
    "        pdf.cell(500, 100, txt=text, align=\"C\")\n",
    "        pdf.output(name=r\"F:\\Jonas\\Uni\\Arbeiten\\Information Retrieval\\testcollection\\\\\" +id+ \".pdf\")\n",
    "        pdf = None\n",
    "        \n",
    "        \n",
    "create_pdfs(r\"F:\\Jonas\\Uni\\Arbeiten\\Information Retrieval\\npl\\doc-text\")"
   ]
  },
  {
   "cell_type": "code",
   "execution_count": null,
   "metadata": {
    "collapsed": true
   },
   "outputs": [],
   "source": []
  }
 ],
 "metadata": {
  "kernelspec": {
   "display_name": "Python 3",
   "language": "python",
   "name": "python3"
  },
  "language_info": {
   "codemirror_mode": {
    "name": "ipython",
    "version": 3
   },
   "file_extension": ".py",
   "mimetype": "text/x-python",
   "name": "python",
   "nbconvert_exporter": "python",
   "pygments_lexer": "ipython3",
   "version": "3.6.0"
  }
 },
 "nbformat": 4,
 "nbformat_minor": 2
}
